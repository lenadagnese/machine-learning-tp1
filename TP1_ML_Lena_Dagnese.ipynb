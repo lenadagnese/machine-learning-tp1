{
  "nbformat": 4,
  "nbformat_minor": 0,
  "metadata": {
    "colab": {
      "provenance": [],
      "toc_visible": true
    },
    "kernelspec": {
      "name": "python3",
      "display_name": "Python 3"
    },
    "language_info": {
      "name": "python"
    }
  },
  "cells": [
    {
      "cell_type": "markdown",
      "source": [
        "# Basic imports"
      ],
      "metadata": {
        "id": "is93eFPIq2iT"
      }
    },
    {
      "cell_type": "code",
      "execution_count": null,
      "metadata": {
        "id": "alXEzhUwnMPR"
      },
      "outputs": [],
      "source": [
        "import io\n",
        "import numpy as np\n",
        "import pandas as pd\n",
        "import seaborn as sns\n",
        "import matplotlib.pyplot as plt\n",
        "from google.colab import files"
      ]
    },
    {
      "cell_type": "markdown",
      "source": [
        "# Loading data"
      ],
      "metadata": {
        "id": "lOVjsJ_vrmhc"
      }
    },
    {
      "cell_type": "code",
      "source": [
        "f = files.upload()"
      ],
      "metadata": {
        "id": "ocJWGMjDnW5m"
      },
      "execution_count": null,
      "outputs": []
    },
    {
      "cell_type": "code",
      "source": [
        "df = pd.read_csv(io.StringIO(f['stress_classification.csv'].decode('utf-8')), sep=\";\")\n",
        "df"
      ],
      "metadata": {
        "id": "zhTNimL6pNv-"
      },
      "execution_count": null,
      "outputs": []
    },
    {
      "cell_type": "markdown",
      "source": [
        "# 1. Data exploration"
      ],
      "metadata": {
        "id": "98U8Z-7_rsUE"
      }
    },
    {
      "cell_type": "code",
      "source": [
        "df.describe()"
      ],
      "metadata": {
        "id": "BRB7Zxd-rCWt"
      },
      "execution_count": null,
      "outputs": []
    },
    {
      "cell_type": "code",
      "source": [
        "df.isnull().any()"
      ],
      "metadata": {
        "id": "FIUJtpXiqR4F"
      },
      "execution_count": null,
      "outputs": []
    },
    {
      "cell_type": "code",
      "source": [
        "df[\"stress_level\"].value_counts()"
      ],
      "metadata": {
        "id": "1_oWSnQVvbrH"
      },
      "execution_count": null,
      "outputs": []
    },
    {
      "cell_type": "code",
      "source": [
        "f, ax = plt.subplots(len(df.columns) - 1, 1, figsize=(8,40))\n",
        "for i, col in enumerate(df.columns):\n",
        "    if col != \"stress_level\":\n",
        "        sns.histplot(data=df[col], kde=True, ax=ax[i])"
      ],
      "metadata": {
        "id": "dHWY1X3NrSOZ"
      },
      "execution_count": null,
      "outputs": []
    },
    {
      "cell_type": "code",
      "source": [
        "f, ax = plt.subplots(1, 1, figsize=(8,6))\n",
        "sns.heatmap(df.drop(\"stress_level\", axis=1).corr(), annot=True, ax=ax)"
      ],
      "metadata": {
        "id": "yq9Fjkncsx9h"
      },
      "execution_count": null,
      "outputs": []
    },
    {
      "cell_type": "markdown",
      "source": [
        "# 2. Data preprocessing"
      ],
      "metadata": {
        "id": "YzymkbuYr3mR"
      }
    },
    {
      "cell_type": "code",
      "source": [
        "from sklearn.model_selection import train_test_split\n",
        "from sklearn.preprocessing import StandardScaler"
      ],
      "metadata": {
        "id": "PHyLyjIptJ89"
      },
      "execution_count": null,
      "outputs": []
    },
    {
      "cell_type": "code",
      "source": [
        "X = df.drop(\"stress_level\", axis=1)\n",
        "y = df[\"stress_level\"]\n",
        "\n",
        "X_train, X_test, y_train, y_test = train_test_split(X, y, test_size=0.2, random_state=42)\n",
        "print(X_train.shape)\n",
        "print(X_test.shape)\n",
        "print(y_train.shape)\n",
        "print(y_test.shape)"
      ],
      "metadata": {
        "id": "mLgmWmKotLQr"
      },
      "execution_count": null,
      "outputs": []
    },
    {
      "cell_type": "code",
      "source": [
        "scaler = StandardScaler()\n",
        "X_train_scaled = scaler.fit_transform(X_train)\n",
        "X_test_scaled = scaler.transform(X_test)\n",
        "print(X_train_scaled.shape)\n",
        "print(X_test_scaled.shape)"
      ],
      "metadata": {
        "id": "ZWx63vgsuu5c"
      },
      "execution_count": null,
      "outputs": []
    },
    {
      "cell_type": "markdown",
      "source": [
        "# 3. KNN model training"
      ],
      "metadata": {
        "id": "U38jZeensJW3"
      }
    },
    {
      "cell_type": "code",
      "source": [
        "from sklearn.neighbors import KNeighborsClassifier"
      ],
      "metadata": {
        "id": "lh3WiFucu-zQ"
      },
      "execution_count": null,
      "outputs": []
    },
    {
      "cell_type": "code",
      "source": [
        "knn = KNeighborsClassifier(n_neighbors=5)"
      ],
      "metadata": {
        "id": "YQzrMz1_vGvr"
      },
      "execution_count": null,
      "outputs": []
    },
    {
      "cell_type": "code",
      "source": [
        "knn.fit(X_train_scaled, y_train)"
      ],
      "metadata": {
        "id": "U_s3dXq_wCKt"
      },
      "execution_count": null,
      "outputs": []
    },
    {
      "cell_type": "code",
      "source": [
        "y_pred_knn = knn.predict(X_test_scaled)\n",
        "y_pred_knn.shape"
      ],
      "metadata": {
        "id": "aWNZqjuZlXjj"
      },
      "execution_count": null,
      "outputs": []
    },
    {
      "cell_type": "markdown",
      "source": [
        "# 4. KNN model evaluation"
      ],
      "metadata": {
        "id": "yqeVjt-KsSkx"
      }
    },
    {
      "cell_type": "code",
      "source": [
        "from sklearn.metrics import (\n",
        "    classification_report,\n",
        "    accuracy_score,\n",
        "    f1_score,\n",
        "    roc_auc_score,\n",
        "    confusion_matrix\n",
        ")"
      ],
      "metadata": {
        "id": "PVFHd-0llfvY"
      },
      "execution_count": null,
      "outputs": []
    },
    {
      "cell_type": "code",
      "source": [
        "print(classification_report(y_test, y_pred_knn))"
      ],
      "metadata": {
        "id": "L1Xqa85wlrVM"
      },
      "execution_count": null,
      "outputs": []
    },
    {
      "cell_type": "code",
      "source": [
        "f, ax = plt.subplots(1, 1, figsize=(8,6))\n",
        "cm = confusion_matrix(y_test, y_pred_knn)\n",
        "sns.heatmap(cm, cmap=\"Blues\", annot=True, fmt=\"g\", ax=ax)"
      ],
      "metadata": {
        "id": "Asic9lKGmyxd"
      },
      "execution_count": null,
      "outputs": []
    },
    {
      "cell_type": "code",
      "source": [
        "print(f\"Accuracy: {accuracy_score(y_test, y_pred_knn)}\")\n",
        "print(f\"F1 score: {f1_score(y_test, y_pred_knn, average='macro')}\")"
      ],
      "metadata": {
        "id": "PsrIEWpglwsB"
      },
      "execution_count": null,
      "outputs": []
    },
    {
      "cell_type": "markdown",
      "source": [
        "# 5. Decision Tree model training"
      ],
      "metadata": {
        "id": "Vq04qxacsXAK"
      }
    },
    {
      "cell_type": "code",
      "source": [
        "from sklearn.tree import DecisionTreeClassifier"
      ],
      "metadata": {
        "id": "xp1iq6M7pFE1"
      },
      "execution_count": null,
      "outputs": []
    },
    {
      "cell_type": "code",
      "source": [
        "dt = DecisionTreeClassifier()"
      ],
      "metadata": {
        "id": "Ef7T82L8pJJf"
      },
      "execution_count": null,
      "outputs": []
    },
    {
      "cell_type": "code",
      "source": [
        "dt.fit(X_train_scaled, y_train)"
      ],
      "metadata": {
        "id": "N__08YoRphPj"
      },
      "execution_count": null,
      "outputs": []
    },
    {
      "cell_type": "code",
      "source": [
        "y_pred_dt = knn.predict(X_test_scaled)\n",
        "y_pred_dt.shape"
      ],
      "metadata": {
        "id": "qaP3_IRWpj7b"
      },
      "execution_count": null,
      "outputs": []
    },
    {
      "cell_type": "markdown",
      "source": [
        "# 6. Decision Tree model evaluation"
      ],
      "metadata": {
        "id": "Ly6RUrMQscw0"
      }
    },
    {
      "cell_type": "code",
      "source": [
        "print(classification_report(y_test, y_pred_dt))"
      ],
      "metadata": {
        "id": "EJMPUxpjpoQI"
      },
      "execution_count": null,
      "outputs": []
    },
    {
      "cell_type": "code",
      "source": [
        "f, ax = plt.subplots(1, 1, figsize=(8,6))\n",
        "cm = confusion_matrix(y_test, y_pred_dt)\n",
        "sns.heatmap(cm, cmap=\"Blues\", annot=True, fmt=\"g\", ax=ax)"
      ],
      "metadata": {
        "id": "TlDKWMBvszGe"
      },
      "execution_count": null,
      "outputs": []
    },
    {
      "cell_type": "code",
      "source": [
        "print(f\"Accuracy: {accuracy_score(y_test, y_pred_dt)}\")\n",
        "print(f\"F1 score: {f1_score(y_test, y_pred_dt, average='macro')}\")"
      ],
      "metadata": {
        "id": "2yt2Laris1Jq"
      },
      "execution_count": null,
      "outputs": []
    },
    {
      "cell_type": "code",
      "source": [
        "pd.Series(dt.feature_importances_, index=X.columns).plot(kind=\"barh\")"
      ],
      "metadata": {
        "id": "3gFP5JDGqfyd"
      },
      "execution_count": null,
      "outputs": []
    },
    {
      "cell_type": "code",
      "source": [],
      "metadata": {
        "id": "DXdn64nQs5lj"
      },
      "execution_count": null,
      "outputs": []
    }
  ]
}